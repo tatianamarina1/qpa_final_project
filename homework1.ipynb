{
 "cells": [
  {
   "cell_type": "code",
   "execution_count": 1,
   "metadata": {},
   "outputs": [
    {
     "name": "stdout",
     "output_type": "stream",
     "text": [
      "IWLLTI\n",
      "VVMAYI\n",
      "QVVLFS\n",
      "AN.\n",
      "AN.HLWHC\n",
      "YEKLK\n",
      "PVLDWLEEKF\n"
     ]
    }
   ],
   "source": [
    "from script import convert_rna_to_protein, convert_dna_to_rna\n",
    "print(convert_rna_to_protein('AUUUGGCUACUAACAAUCUA'))\n",
    "print(convert_rna_to_protein('GUUGUAAUGGCCUACAUUA'))\n",
    "print(convert_rna_to_protein('CAGGUGGUGUUGUUCAGUU'))\n",
    "print(convert_rna_to_protein('GCUAACUAAC'))\n",
    "print(convert_rna_to_protein('GCUAACUAACAUCUUUGGCACUGUU'))\n",
    "print(convert_rna_to_protein('UAUGAAAAACUCAAA'))\n",
    "print(convert_rna_to_protein('CCCGUCCUUGAUUGGCUUGAAGAGAAGUUU'))"
   ]
  },
  {
   "cell_type": "code",
   "execution_count": 2,
   "metadata": {},
   "outputs": [
    {
     "name": "stdout",
     "output_type": "stream",
     "text": [
      "True\n",
      "True\n",
      "True\n",
      "True\n",
      "True\n",
      "True\n",
      "True\n"
     ]
    }
   ],
   "source": [
    "print(convert_dna_to_rna('ATTTGGCTACTAACAATCTA') == 'AUUUGGCUACUAACAAUCUA')\n",
    "print(convert_dna_to_rna('GTTGTAATGGCCTACATTA') == 'GUUGUAAUGGCCUACAUUA')\n",
    "print(convert_dna_to_rna('CAGGTGGTGTTGTTCAGTT') == 'CAGGUGGUGUUGUUCAGUU')\n",
    "print(convert_dna_to_rna('GCTAACTAAC') == 'GCUAACUAAC')\n",
    "print(convert_dna_to_rna('GCTAACTAACATCTTTGGCACTGTT') == 'GCUAACUAACAUCUUUGGCACUGUU')\n",
    "print(convert_dna_to_rna('TATGAAAAACTCAAA') == 'UAUGAAAAACUCAAA')\n",
    "print(convert_dna_to_rna('CCCGTCCTTGATTGGCTTGAAGAGAAGTTT') == 'CCCGUCCUUGAUUGGCUUGAAGAGAAGUUU')"
   ]
  },
  {
   "cell_type": "code",
   "execution_count": 3,
   "metadata": {},
   "outputs": [
    {
     "data": {
      "text/plain": [
       "'IWLLTI'"
      ]
     },
     "execution_count": 3,
     "metadata": {},
     "output_type": "execute_result"
    }
   ],
   "source": [
    "#AUUUGGCUACUAACAAUCUA -> IWLLTI\n",
    "convert_rna_to_protein('AUUUGGCUACUAACAAUCUA')"
   ]
  },
  {
   "cell_type": "code",
   "execution_count": 4,
   "metadata": {},
   "outputs": [
    {
     "name": "stdout",
     "output_type": "stream",
     "text": [
      "True\n",
      "True\n",
      "True\n",
      "True\n",
      "True\n",
      "True\n",
      "True\n"
     ]
    }
   ],
   "source": [
    "print(convert_rna_to_protein('AUUUGGCUACUAACAAUCUA') == 'IWLLTI')\n",
    "print(convert_rna_to_protein('GUUGUAAUGGCCUACAUUA') == 'VVMAYI')\n",
    "print(convert_rna_to_protein('CAGGUGGUGUUGUUCAGUU') == 'QVVLFS')\n",
    "print(convert_rna_to_protein('GCUAACUAAC') == 'AN.')\n",
    "print(convert_rna_to_protein('GCUAACUAACAUCUUUGGCACUGUU') == 'AN.HLWHC')\n",
    "print(convert_rna_to_protein('UAUGAAAAACUCAAA') == 'YEKLK')\n",
    "print(convert_rna_to_protein('CCCGUCCUUGAUUGGCUUGAAGAGAAGUUU') == 'PVLDWLEEKF')"
   ]
  },
  {
   "cell_type": "code",
   "execution_count": 5,
   "metadata": {},
   "outputs": [],
   "source": [
    "open?"
   ]
  },
  {
   "cell_type": "code",
   "execution_count": null,
   "metadata": {},
   "outputs": [],
   "source": []
  }
 ],
 "metadata": {
  "kernelspec": {
   "display_name": "Python 3",
   "language": "python",
   "name": "python3"
  },
  "language_info": {
   "codemirror_mode": {
    "name": "ipython",
    "version": 3
   },
   "file_extension": ".py",
   "mimetype": "text/x-python",
   "name": "python",
   "nbconvert_exporter": "python",
   "pygments_lexer": "ipython3",
   "version": "3.7.6"
  }
 },
 "nbformat": 4,
 "nbformat_minor": 4
}
